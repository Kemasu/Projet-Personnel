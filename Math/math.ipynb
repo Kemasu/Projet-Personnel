CREATE TABLE ETUDIANT(
  etudiant_id int pirmary key,
  nom varchar(20),
  prenom varchar(20),
  ); 

CREATE TABLE MATIERE(
  matiere_id int primary key,
  matiere vachar(15),
  volume_horaire int,
  );

CREATE TABLE COMPETENCE(
  competence_id int primary key,
  competence vachar(15),
  );

CREATE TABLE PROF(
  prof_id int primary key,
  nom vachar(20),
  prenom vachar(20),
  );

CREATE TABLE CONTROLE(
  controle_id int primary key,
  matiere_id int reference MATIERE,
  controle VACHAR(20),
  coef int,
  ); 

CREATE TABLE NOTES(
  etudiant_id int primary key reference ETUDIANT,
  controle_id int primary key reference CONTROLE,
  note float,
  );

CREATE TABLE COMPETENCE_MATIERE(
  competence_id int primary key reference COMPETENCE,
  matiere_id int primary key reference MATIERE,
  coeff int,
  );

CREATE TABLE GROUPE(
  groupe_id int primary key,
  nomgrp vachar(15),
  );

CREATE TABLE GROUPE_ETUDIANT(
  groupe_id int primary key reference GROUPE,
  etudiant_id int primary key reference ETUDIANT,
  );

CREATE TABLE MOYENNE(
  matiere_id int primary key reference MATIERE,
  etudiant_id int primary key reference ETUDIANT,
  moyenne float,
  );

CREATE TABLE GROUPE_MATIERE_PROF(
  groupe_id int primary key reference GROUPE,
  matiere_id int primary key reference MATIERE,
  prof_id int primary key reference PROF,
  );

CREATE FUNCTION check_note()//verifier la note
  retruns TIGGER AS
$$
  Begin
	IF NEW.note < 0 or NEW.note > 20;
		then
			return null;
	end IF;
	RETURN NEW;
	end;

$$language plpgsql;

CREATE TRIGGER tmaj_note //mettre à jour
	BEFORE
	UPDATE ON note
		FOR EACH ROW 
		EXECUTE PROCEDURE check_note(); 


CREATE TRIGGER tadd_note //ajouter une note
	BEFORE
	INSERT ON note
		FOR EACH ROW 
		EXECUTE PROCEDURE check_note(); 

CREATE FUNCTION check_volH()//verifier la volume horaire
  retruns TIGGER AS
$$
  Begin
	IF NEW.matiere < 0;
		then
			return null;
	end IF;
	RETURN NEW;
	end;

$$language plpgsql;

CREATE TRIGGER tmaj_volH //mettre à jour
	BEFORE
	UPDATE ON matiere
		FOR EACH ROW 
		EXECUTE PROCEDURE check_volH(); 


CREATE TRIGGER tadd_volH //ajouter
	BEFORE
	INSERT ON matiere
		FOR EACH ROW 
		EXECUTE PROCEDURE check_volH(); 

CREATE FUNCTION check_coeff()//verifier le coeff
  retruns TIGGER AS
$$
  Begin
	IF NEW.competence_matiere < 0;
		then
			return null;
	end IF;
	RETURN NEW;
	end;

$$language plpgsql;

CREATE TRIGGER tmaj_coeff //mettre à jour
	BEFORE
	UPDATE ON competence_matiere
		FOR EACH ROW 
		EXECUTE PROCEDURE check_coeff(); 


CREATE TRIGGER tadd_coeff//ajouter
	BEFORE
	INSERT ON competence_matiere
		FOR EACH ROW 
		EXECUTE PROCEDURE check_coeff(); 

coef+Volume horraire pas negatif 

competence varchar